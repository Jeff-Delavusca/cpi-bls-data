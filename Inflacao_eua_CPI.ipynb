{
  "nbformat": 4,
  "nbformat_minor": 0,
  "metadata": {
    "colab": {
      "provenance": []
    },
    "kernelspec": {
      "name": "python3",
      "display_name": "Python 3"
    },
    "language_info": {
      "name": "python"
    }
  },
  "cells": [
    {
      "cell_type": "code",
      "source": [
        "# =========================================================\n",
        "# 1. Importação de bibliotecas\n",
        "# =========================================================\n",
        "\n",
        "import requests   # Para fazer requisições HTTP\n",
        "import json       # Para trabalhar com respostas em formato JSON\n",
        "import pandas as pd  # Para manipulação e análise de dados tabulares\n"
      ],
      "metadata": {
        "id": "RMPd8PgNkmGR"
      },
      "execution_count": 2,
      "outputs": []
    },
    {
      "cell_type": "code",
      "source": [
        "# =========================================================\n",
        "# 2. Função para coletar dados do CPI\n",
        "# =========================================================\n",
        "def get_cpi_data(start_year, end_year, series_ids=[\"CUUR0000SA0\"]):\n",
        "    \"\"\"\n",
        "    Obtém dados do CPI (Consumer Price Index) usando a API do BLS (Bureau of Labor Statistics).\n",
        "\n",
        "    Args:\n",
        "        start_year (int): Ano inicial da coleta.\n",
        "        end_year (int): Ano final da coleta.\n",
        "        series_ids (list): Lista de IDs das séries de dados.\n",
        "                           Exemplo: [\"CUUR0000SA0\"] para CPI-U (All items).\n",
        "\n",
        "    Returns:\n",
        "        DataFrame: Dados no formato tabular com colunas\n",
        "                   (series_id, year, month, value).\n",
        "    \"\"\"\n",
        "\n",
        "    # Define cabeçalho da requisição\n",
        "    headers = {'Content-type': 'application/json'}\n",
        "\n",
        "    # Define corpo da requisição (anos + séries)\n",
        "    data = json.dumps({\n",
        "        \"seriesid\": series_ids,\n",
        "        \"startyear\": str(start_year),\n",
        "        \"endyear\": str(end_year)\n",
        "    })\n",
        "\n",
        "    # Faz requisição POST à API do BLS\n",
        "    p = requests.post(\n",
        "        'https://api.bls.gov/publicAPI/v2/timeseries/data/',\n",
        "        data=data, headers=headers\n",
        "    )\n",
        "    json_data = json.loads(p.text)\n",
        "\n",
        "    # Caso a requisição seja bem-sucedida\n",
        "    if json_data['status'] == 'REQUEST_SUCCEEDED':\n",
        "        all_data = []\n",
        "\n",
        "        # Percorre todas as séries retornadas\n",
        "        for series in json_data['Results']['series']:\n",
        "            sid = series['seriesID']\n",
        "            for item in series['data']:\n",
        "                year = int(item['year'])\n",
        "                period = item['period']  # formato \"M01\", \"M02\", ...\n",
        "                value = float(item['value'])\n",
        "\n",
        "                # Considera apenas períodos mensais (ignora agregados anuais)\n",
        "                if period.startswith('M'):\n",
        "                    month = int(period[1:])\n",
        "                    all_data.append({\n",
        "                        'series_id': sid,\n",
        "                        'year': year,\n",
        "                        'month': month,\n",
        "                        'value': value\n",
        "                    })\n",
        "\n",
        "        # Retorna DataFrame organizado\n",
        "        df = pd.DataFrame(all_data)\n",
        "        return df.sort_values(\n",
        "            by=['series_id', 'year', 'month']\n",
        "        ).reset_index(drop=True)\n",
        "\n",
        "    else:\n",
        "        # Caso a API retorne erro\n",
        "        print('Erro ao obter dados do BLS')\n",
        "        return None\n"
      ],
      "metadata": {
        "id": "QcM7yRxBsJbU"
      },
      "execution_count": 3,
      "outputs": []
    },
    {
      "cell_type": "code",
      "source": [
        "# =========================================================\n",
        "# 3. Exemplo de uso\n",
        "# =========================================================\n",
        "\n",
        "df = get_cpi_data(2024, 2025, series_ids=[\"CUUR0000SA0\"])\n",
        "\n",
        "# Reorganiza os dados em formato \"wide\"\n",
        "df_pivot = df.pivot(\n",
        "    index=[\"year\", \"month\"],\n",
        "    columns=\"series_id\",\n",
        "    values=\"value\"\n",
        ").reset_index()\n",
        "\n",
        "# Renomeia colunas para facilitar leitura\n",
        "df_pivot = df_pivot.rename(columns={\n",
        "    \"CUUR0000SA0\": \"All items\"\n",
        "})\n",
        "\n",
        "# Exibe os dados no console\n",
        "print(df_pivot)\n",
        "\n",
        "# Opcional: salva em CSV\n",
        "df_pivot.to_csv(\"cpi_data.csv\", index=False)\n",
        "print(\"\\nArquivo 'cpi_data.csv' salvo com sucesso!\")"
      ],
      "metadata": {
        "colab": {
          "base_uri": "https://localhost:8080/"
        },
        "id": "V258VMalsJN_",
        "outputId": "6d113abb-00d8-4389-ae10-71ad179bf8e5"
      },
      "execution_count": 4,
      "outputs": [
        {
          "output_type": "stream",
          "name": "stdout",
          "text": [
            "series_id  year  month  All items\n",
            "0          2024      1    308.417\n",
            "1          2024      2    310.326\n",
            "2          2024      3    312.332\n",
            "3          2024      4    313.548\n",
            "4          2024      5    314.069\n",
            "5          2024      6    314.175\n",
            "6          2024      7    314.540\n",
            "7          2024      8    314.796\n",
            "8          2024      9    315.301\n",
            "9          2024     10    315.664\n",
            "10         2024     11    315.493\n",
            "11         2024     12    315.605\n",
            "12         2025      1    317.671\n",
            "13         2025      2    319.082\n",
            "14         2025      3    319.799\n",
            "15         2025      4    320.795\n",
            "16         2025      5    321.465\n",
            "17         2025      6    322.561\n",
            "18         2025      7    323.048\n",
            "\n",
            "Arquivo 'cpi_data.csv' salvo com sucesso!\n"
          ]
        }
      ]
    }
  ]
}